{
 "cells": [
  {
   "cell_type": "markdown",
   "id": "83e500c8-46e4-4033-a499-a1e1038fe3cb",
   "metadata": {},
   "source": [
    "1. Operaciones con numeros y flotantes"
   ]
  },
  {
   "cell_type": "code",
   "execution_count": 1,
   "id": "339cb392-a707-4c27-86ec-9dda9bd85b30",
   "metadata": {},
   "outputs": [
    {
     "data": {
      "text/plain": [
       "2"
      ]
     },
     "execution_count": 1,
     "metadata": {},
     "output_type": "execute_result"
    }
   ],
   "source": [
    "1+1"
   ]
  },
  {
   "cell_type": "code",
   "execution_count": 2,
   "id": "791a53e6-46cc-4559-8178-2a5c6e468633",
   "metadata": {},
   "outputs": [
    {
     "data": {
      "text/plain": [
       "7"
      ]
     },
     "execution_count": 2,
     "metadata": {},
     "output_type": "execute_result"
    }
   ],
   "source": [
    "8-1"
   ]
  },
  {
   "cell_type": "code",
   "execution_count": 3,
   "id": "387b1755-4bb2-4205-a7fe-f12952be8934",
   "metadata": {},
   "outputs": [
    {
     "data": {
      "text/plain": [
       "20"
      ]
     },
     "execution_count": 3,
     "metadata": {},
     "output_type": "execute_result"
    }
   ],
   "source": [
    "10*2"
   ]
  },
  {
   "cell_type": "code",
   "execution_count": 5,
   "id": "9c32b800-ebd3-4eca-896f-6e1ffba463a6",
   "metadata": {},
   "outputs": [
    {
     "data": {
      "text/plain": [
       "5.833333333333333"
      ]
     },
     "execution_count": 5,
     "metadata": {},
     "output_type": "execute_result"
    }
   ],
   "source": [
    "35/6"
   ]
  },
  {
   "cell_type": "code",
   "execution_count": 6,
   "id": "9626c5f3-8315-48d3-8c79-0af9f930e4f0",
   "metadata": {},
   "outputs": [
    {
     "data": {
      "text/plain": [
       "5"
      ]
     },
     "execution_count": 6,
     "metadata": {},
     "output_type": "execute_result"
    }
   ],
   "source": [
    "35//6"
   ]
  },
  {
   "cell_type": "code",
   "execution_count": 7,
   "id": "a3ba1a5d-045e-427a-86d8-529d73daeb4b",
   "metadata": {},
   "outputs": [
    {
     "data": {
      "text/plain": [
       "5"
      ]
     },
     "execution_count": 7,
     "metadata": {},
     "output_type": "execute_result"
    }
   ],
   "source": [
    "35%6"
   ]
  },
  {
   "cell_type": "code",
   "execution_count": 34,
   "id": "ba3fdccd-916c-4b6a-bd11-4f25739bdf31",
   "metadata": {},
   "outputs": [
    {
     "data": {
      "text/plain": [
       "22.627416997969522"
      ]
     },
     "execution_count": 34,
     "metadata": {},
     "output_type": "execute_result"
    }
   ],
   "source": [
    "2**4.5"
   ]
  },
  {
   "cell_type": "code",
   "execution_count": 10,
   "id": "c80e2d9d-fc57-468a-9f64-65db09b034f4",
   "metadata": {},
   "outputs": [
    {
     "data": {
      "text/plain": [
       "7"
      ]
     },
     "execution_count": 10,
     "metadata": {},
     "output_type": "execute_result"
    }
   ],
   "source": [
    "# PEMDAS\n",
    "(1+3*2)"
   ]
  },
  {
   "cell_type": "code",
   "execution_count": 11,
   "id": "f0671f31-84bf-4c03-8c8f-047b2a572536",
   "metadata": {},
   "outputs": [
    {
     "data": {
      "text/plain": [
       "8"
      ]
     },
     "execution_count": 11,
     "metadata": {},
     "output_type": "execute_result"
    }
   ],
   "source": [
    "((1+3)*2)"
   ]
  },
  {
   "cell_type": "markdown",
   "id": "38b556f7-7858-441f-8d8e-6c9e52c4cbec",
   "metadata": {},
   "source": [
    "2. Operaciones con boleanos"
   ]
  },
  {
   "cell_type": "code",
   "execution_count": 13,
   "id": "70fd062d-4a69-460e-9f13-85e6b0441b1f",
   "metadata": {},
   "outputs": [
    {
     "data": {
      "text/plain": [
       "True"
      ]
     },
     "execution_count": 13,
     "metadata": {},
     "output_type": "execute_result"
    }
   ],
   "source": [
    "True or True"
   ]
  },
  {
   "cell_type": "code",
   "execution_count": 14,
   "id": "111e2cb5-e1f5-4dd3-8044-2f57dad97ea5",
   "metadata": {},
   "outputs": [
    {
     "data": {
      "text/plain": [
       "True"
      ]
     },
     "execution_count": 14,
     "metadata": {},
     "output_type": "execute_result"
    }
   ],
   "source": [
    "0 ==  False"
   ]
  },
  {
   "cell_type": "code",
   "execution_count": 15,
   "id": "84b228c2-8f92-4ea0-811b-8692b0d54f11",
   "metadata": {},
   "outputs": [
    {
     "data": {
      "text/plain": [
       "True"
      ]
     },
     "execution_count": 15,
     "metadata": {},
     "output_type": "execute_result"
    }
   ],
   "source": [
    "1 == True"
   ]
  },
  {
   "cell_type": "code",
   "execution_count": 20,
   "id": "03442521-3f79-4842-ade9-b276d1020aa6",
   "metadata": {},
   "outputs": [
    {
     "data": {
      "text/plain": [
       "True"
      ]
     },
     "execution_count": 20,
     "metadata": {},
     "output_type": "execute_result"
    }
   ],
   "source": [
    "True > 0"
   ]
  },
  {
   "cell_type": "code",
   "execution_count": 22,
   "id": "edce799d-a7f4-46db-abc3-cb2fae2985b1",
   "metadata": {},
   "outputs": [
    {
     "data": {
      "text/plain": [
       "True"
      ]
     },
     "execution_count": 22,
     "metadata": {},
     "output_type": "execute_result"
    }
   ],
   "source": [
    "not False"
   ]
  },
  {
   "cell_type": "code",
   "execution_count": 26,
   "id": "5ae800e5-4e0c-43ed-af4c-0f0bcc34fd4a",
   "metadata": {},
   "outputs": [
    {
     "data": {
      "text/plain": [
       "False"
      ]
     },
     "execution_count": 26,
     "metadata": {},
     "output_type": "execute_result"
    }
   ],
   "source": [
    "2 == 1"
   ]
  },
  {
   "cell_type": "code",
   "execution_count": 30,
   "id": "128b8fa6-f1d2-4641-87ef-126e56f6f5bb",
   "metadata": {},
   "outputs": [
    {
     "data": {
      "text/plain": [
       "False"
      ]
     },
     "execution_count": 30,
     "metadata": {},
     "output_type": "execute_result"
    }
   ],
   "source": [
    "2 >= 10"
   ]
  },
  {
   "cell_type": "code",
   "execution_count": 37,
   "id": "819c02c1-7cee-4391-b403-0c19cf989bd1",
   "metadata": {},
   "outputs": [
    {
     "name": "stdout",
     "output_type": "stream",
     "text": [
      "False\n",
      "True\n"
     ]
    }
   ],
   "source": [
    "print(2 >= 10)\n",
    "print(1 < 2 < 3)"
   ]
  },
  {
   "cell_type": "markdown",
   "id": "4e6c40df-1365-4e1b-85db-530ed0f63786",
   "metadata": {},
   "source": [
    "3. Operaciones con cadenas de caracteres"
   ]
  },
  {
   "cell_type": "code",
   "execution_count": 35,
   "id": "6800b0ce-4755-4980-a437-4e7955b1fa62",
   "metadata": {},
   "outputs": [
    {
     "name": "stdout",
     "output_type": "stream",
     "text": [
      "This is a string.\n",
      "This is also a string.\n"
     ]
    }
   ],
   "source": [
    "print(\"This is a string.\")\n",
    "print('This is also a string.')"
   ]
  },
  {
   "cell_type": "code",
   "execution_count": 42,
   "id": "57c43a5b-deb5-456e-9d8b-deed92e400c7",
   "metadata": {},
   "outputs": [
    {
     "data": {
      "text/plain": [
       "'This is a string.This is a string.'"
      ]
     },
     "execution_count": 42,
     "metadata": {},
     "output_type": "execute_result"
    }
   ],
   "source": [
    "\"This is a string.\" + \"This is a string.\""
   ]
  },
  {
   "cell_type": "code",
   "execution_count": 58,
   "id": "a136dd59-f87f-4183-81d7-2a9e4a42e45c",
   "metadata": {},
   "outputs": [],
   "source": [
    "var_string: str = \"This is a string.\"\n",
    "var_float: float = 5.5\n",
    "var_int: int = 10\n",
    "var_bool: bool = True"
   ]
  },
  {
   "cell_type": "code",
   "execution_count": 59,
   "id": "331a78f4-f422-422a-b6a6-5729617b535c",
   "metadata": {},
   "outputs": [
    {
     "data": {
      "text/plain": [
       "' '"
      ]
     },
     "execution_count": 59,
     "metadata": {},
     "output_type": "execute_result"
    }
   ],
   "source": [
    "var_string[4]"
   ]
  },
  {
   "cell_type": "code",
   "execution_count": 60,
   "id": "63feadf9-f5bb-426f-98f7-edc4ce51cf39",
   "metadata": {},
   "outputs": [
    {
     "data": {
      "text/plain": [
       "17"
      ]
     },
     "execution_count": 60,
     "metadata": {},
     "output_type": "execute_result"
    }
   ],
   "source": [
    "len(var_string)"
   ]
  },
  {
   "cell_type": "code",
   "execution_count": 63,
   "id": "4d78b596-d7a2-4106-a51d-b250270f0b86",
   "metadata": {},
   "outputs": [
    {
     "data": {
      "text/plain": [
       "'THIS IS A STRING.'"
      ]
     },
     "execution_count": 63,
     "metadata": {},
     "output_type": "execute_result"
    }
   ],
   "source": [
    "var_string.upper()"
   ]
  },
  {
   "cell_type": "code",
   "execution_count": 64,
   "id": "7f9ffd2c-7c06-4d3a-90c9-49c37ed89dcb",
   "metadata": {},
   "outputs": [],
   "source": [
    "x = 'manzana'\n",
    "y = 'limón'"
   ]
  },
  {
   "cell_type": "code",
   "execution_count": 65,
   "id": "f3a839bc-4517-413a-b78c-274f00b951dc",
   "metadata": {},
   "outputs": [
    {
     "name": "stdout",
     "output_type": "stream",
     "text": [
      "En nuestra canasta de compras tenemos manzana y limón\n"
     ]
    }
   ],
   "source": [
    "z = f\"En nuestra canasta de compras tenemos {x} y {y}\"\n",
    "print(z)"
   ]
  },
  {
   "cell_type": "markdown",
   "id": "7cd963e2-3c62-4ff8-a1c8-ca28bf52e8bd",
   "metadata": {},
   "source": [
    "4.Colecciones"
   ]
  },
  {
   "cell_type": "code",
   "execution_count": 66,
   "id": "31f00eb8-c36e-4b9b-888c-c059ec544f7a",
   "metadata": {},
   "outputs": [
    {
     "data": {
      "text/plain": [
       "[]"
      ]
     },
     "execution_count": 66,
     "metadata": {},
     "output_type": "execute_result"
    }
   ],
   "source": [
    "[]"
   ]
  },
  {
   "cell_type": "code",
   "execution_count": 67,
   "id": "f17f5429-a19d-4a9c-8b06-e406f2cdd063",
   "metadata": {},
   "outputs": [
    {
     "data": {
      "text/plain": [
       "()"
      ]
     },
     "execution_count": 67,
     "metadata": {},
     "output_type": "execute_result"
    }
   ],
   "source": [
    "()"
   ]
  },
  {
   "cell_type": "code",
   "execution_count": 68,
   "id": "db1bb3a6-c319-4517-98af-94c9126cd8f8",
   "metadata": {},
   "outputs": [
    {
     "data": {
      "text/plain": [
       "{}"
      ]
     },
     "execution_count": 68,
     "metadata": {},
     "output_type": "execute_result"
    }
   ],
   "source": [
    "{}"
   ]
  },
  {
   "cell_type": "code",
   "execution_count": 69,
   "id": "52ebc2bd-de7e-4183-ac53-05db681d9a2c",
   "metadata": {},
   "outputs": [
    {
     "data": {
      "text/plain": [
       "set()"
      ]
     },
     "execution_count": 69,
     "metadata": {},
     "output_type": "execute_result"
    }
   ],
   "source": [
    "set()"
   ]
  },
  {
   "cell_type": "code",
   "execution_count": 70,
   "id": "8d4f7f72-1704-4836-9e75-d2987ce7d126",
   "metadata": {},
   "outputs": [],
   "source": [
    "li = []\n",
    "other_li = [4, 5, 6, \"hola\", True, []]"
   ]
  },
  {
   "cell_type": "code",
   "execution_count": 72,
   "id": "a545fe13-103e-431e-8f7b-7b5dee872d89",
   "metadata": {},
   "outputs": [
    {
     "data": {
      "text/plain": [
       "[4, 5, 6, 'hola', True, []]"
      ]
     },
     "execution_count": 72,
     "metadata": {},
     "output_type": "execute_result"
    }
   ],
   "source": [
    "other_li"
   ]
  },
  {
   "cell_type": "code",
   "execution_count": 73,
   "id": "b9f7de92-2461-41a0-97ff-c03a4e32aa60",
   "metadata": {},
   "outputs": [],
   "source": [
    "li.append(45)"
   ]
  },
  {
   "cell_type": "code",
   "execution_count": 74,
   "id": "b4d0efe8-80a7-443d-bffa-64ceac7a3775",
   "metadata": {},
   "outputs": [
    {
     "data": {
      "text/plain": [
       "[45]"
      ]
     },
     "execution_count": 74,
     "metadata": {},
     "output_type": "execute_result"
    }
   ],
   "source": [
    "li"
   ]
  },
  {
   "cell_type": "code",
   "execution_count": 79,
   "id": "c8276d05-fcba-4890-975a-5c89b83277a1",
   "metadata": {},
   "outputs": [],
   "source": [
    "other_li[3] = \"chao\""
   ]
  },
  {
   "cell_type": "code",
   "execution_count": 80,
   "id": "8209a4dc-2909-476d-823f-9227952f108a",
   "metadata": {},
   "outputs": [
    {
     "data": {
      "text/plain": [
       "[4, 5, 6, 'chao', True, []]"
      ]
     },
     "execution_count": 80,
     "metadata": {},
     "output_type": "execute_result"
    }
   ],
   "source": [
    "other_li"
   ]
  },
  {
   "cell_type": "code",
   "execution_count": 83,
   "id": "a454ae12-38b6-4640-8432-9e0d9b4f1f7a",
   "metadata": {},
   "outputs": [
    {
     "data": {
      "text/plain": [
       "6"
      ]
     },
     "execution_count": 83,
     "metadata": {},
     "output_type": "execute_result"
    }
   ],
   "source": [
    "len(other_li)"
   ]
  },
  {
   "cell_type": "code",
   "execution_count": 88,
   "id": "1134ae4c-e758-4486-9e99-efec1418bda8",
   "metadata": {},
   "outputs": [
    {
     "data": {
      "text/plain": [
       "False"
      ]
     },
     "execution_count": 88,
     "metadata": {},
     "output_type": "execute_result"
    }
   ],
   "source": [
    "\"chaoooo\" in other_li"
   ]
  },
  {
   "cell_type": "code",
   "execution_count": 75,
   "id": "f9070097-0bc7-45e5-8a1e-6d5b6b929279",
   "metadata": {},
   "outputs": [],
   "source": [
    "tup = (1, 2, 3)"
   ]
  },
  {
   "cell_type": "code",
   "execution_count": 76,
   "id": "404af49a-c0da-4adb-86fb-1260bd28ab12",
   "metadata": {},
   "outputs": [
    {
     "data": {
      "text/plain": [
       "tuple"
      ]
     },
     "execution_count": 76,
     "metadata": {},
     "output_type": "execute_result"
    }
   ],
   "source": [
    "type(tup)"
   ]
  },
  {
   "cell_type": "code",
   "execution_count": 82,
   "id": "e36b4eae-672f-4593-bb02-daa1e0baf497",
   "metadata": {},
   "outputs": [
    {
     "ename": "TypeError",
     "evalue": "'tuple' object does not support item assignment",
     "output_type": "error",
     "traceback": [
      "\u001b[1;31m---------------------------------------------------------------------------\u001b[0m",
      "\u001b[1;31mTypeError\u001b[0m                                 Traceback (most recent call last)",
      "Cell \u001b[1;32mIn[82], line 1\u001b[0m\n\u001b[1;32m----> 1\u001b[0m \u001b[43mtup\u001b[49m\u001b[43m[\u001b[49m\u001b[38;5;241;43m2\u001b[39;49m\u001b[43m]\u001b[49m \u001b[38;5;241m=\u001b[39m \u001b[38;5;124m\"\u001b[39m\u001b[38;5;124mhola\u001b[39m\u001b[38;5;124m\"\u001b[39m\n",
      "\u001b[1;31mTypeError\u001b[0m: 'tuple' object does not support item assignment"
     ]
    }
   ],
   "source": [
    "tup[2] = \"hola\""
   ]
  },
  {
   "cell_type": "code",
   "execution_count": 84,
   "id": "a0d68ec5-5ab8-449c-b3cd-580233d5601f",
   "metadata": {},
   "outputs": [
    {
     "data": {
      "text/plain": [
       "3"
      ]
     },
     "execution_count": 84,
     "metadata": {},
     "output_type": "execute_result"
    }
   ],
   "source": [
    "len(tup)"
   ]
  },
  {
   "cell_type": "code",
   "execution_count": 86,
   "id": "bddee056-dbc5-4458-94e0-2503146eadbe",
   "metadata": {},
   "outputs": [
    {
     "data": {
      "text/plain": [
       "True"
      ]
     },
     "execution_count": 86,
     "metadata": {},
     "output_type": "execute_result"
    }
   ],
   "source": [
    "3 in tup"
   ]
  },
  {
   "cell_type": "code",
   "execution_count": 89,
   "id": "329f68d1-f641-4b6c-ada8-9e04c926a7ce",
   "metadata": {},
   "outputs": [],
   "source": [
    "empty_dict = {}\n",
    "filled_dict = {\"one\": 1, \"two\": 2.5, \"three\":True, \"letras\": [\"A\", \"B\", \"C\"], \"tup\": (1, 2, 3)}"
   ]
  },
  {
   "cell_type": "code",
   "execution_count": 90,
   "id": "2275168b-41b3-42e2-bc74-95b99744a68a",
   "metadata": {},
   "outputs": [
    {
     "data": {
      "text/plain": [
       "{'one': 1,\n",
       " 'two': 2.5,\n",
       " 'three': True,\n",
       " 'letras': ['A', 'B', 'C'],\n",
       " 'tup': (1, 2, 3)}"
      ]
     },
     "execution_count": 90,
     "metadata": {},
     "output_type": "execute_result"
    }
   ],
   "source": [
    "filled_dict"
   ]
  },
  {
   "cell_type": "code",
   "execution_count": 93,
   "id": "786d83eb-3541-4394-89ec-443e01a29261",
   "metadata": {},
   "outputs": [
    {
     "data": {
      "text/plain": [
       "1"
      ]
     },
     "execution_count": 93,
     "metadata": {},
     "output_type": "execute_result"
    }
   ],
   "source": [
    "filled_dict[\"one\"]"
   ]
  },
  {
   "cell_type": "code",
   "execution_count": 94,
   "id": "44038a70-4c0c-46ee-8668-cc5478828459",
   "metadata": {},
   "outputs": [
    {
     "data": {
      "text/plain": [
       "dict_keys(['one', 'two', 'three', 'letras', 'tup'])"
      ]
     },
     "execution_count": 94,
     "metadata": {},
     "output_type": "execute_result"
    }
   ],
   "source": [
    "filled_dict.keys()"
   ]
  },
  {
   "cell_type": "code",
   "execution_count": 96,
   "id": "3f32ba45-ab6b-4fdc-9c3e-6411fe40b945",
   "metadata": {},
   "outputs": [
    {
     "data": {
      "text/plain": [
       "dict_values([1, 2.5, True, ['A', 'B', 'C'], (1, 2, 3)])"
      ]
     },
     "execution_count": 96,
     "metadata": {},
     "output_type": "execute_result"
    }
   ],
   "source": [
    "filled_dict.values()"
   ]
  },
  {
   "cell_type": "code",
   "execution_count": 97,
   "id": "e3d5a514-93dd-432e-b781-d66c20763d7a",
   "metadata": {},
   "outputs": [
    {
     "data": {
      "text/plain": [
       "dict_items([('one', 1), ('two', 2.5), ('three', True), ('letras', ['A', 'B', 'C']), ('tup', (1, 2, 3))])"
      ]
     },
     "execution_count": 97,
     "metadata": {},
     "output_type": "execute_result"
    }
   ],
   "source": [
    "filled_dict.items()"
   ]
  },
  {
   "cell_type": "code",
   "execution_count": 98,
   "id": "a7f7725c-8b71-45aa-8a2b-cf0be8f2efb3",
   "metadata": {},
   "outputs": [],
   "source": [
    "filled_dict[\"one\"] = 100"
   ]
  },
  {
   "cell_type": "code",
   "execution_count": 99,
   "id": "1b36061a-bdd7-4758-aa8c-847a54e67c0d",
   "metadata": {},
   "outputs": [
    {
     "data": {
      "text/plain": [
       "{'one': 100,\n",
       " 'two': 2.5,\n",
       " 'three': True,\n",
       " 'letras': ['A', 'B', 'C'],\n",
       " 'tup': (1, 2, 3)}"
      ]
     },
     "execution_count": 99,
     "metadata": {},
     "output_type": "execute_result"
    }
   ],
   "source": [
    "filled_dict"
   ]
  },
  {
   "cell_type": "code",
   "execution_count": 101,
   "id": "90d9d305-00ef-49a5-a811-d46af833f76d",
   "metadata": {},
   "outputs": [],
   "source": [
    "filled_set = {1, 2, 2, 3, 4}\n",
    "other_set = {3, 4, 5, 6}"
   ]
  },
  {
   "cell_type": "code",
   "execution_count": 103,
   "id": "8738752e-c2b8-42a4-8227-ef1a9e045bc9",
   "metadata": {},
   "outputs": [
    {
     "data": {
      "text/plain": [
       "{1, 2, 3, 4, 5, 6}"
      ]
     },
     "execution_count": 103,
     "metadata": {},
     "output_type": "execute_result"
    }
   ],
   "source": [
    "union_result = filled_set | other_set\n",
    "union_result"
   ]
  },
  {
   "cell_type": "code",
   "execution_count": 104,
   "id": "9716964c-80d0-4836-bc49-05cb5aa6ba7b",
   "metadata": {},
   "outputs": [
    {
     "data": {
      "text/plain": [
       "{3, 4}"
      ]
     },
     "execution_count": 104,
     "metadata": {},
     "output_type": "execute_result"
    }
   ],
   "source": [
    "intersection_result = filled_set & other_set\n",
    "intersection_result"
   ]
  },
  {
   "cell_type": "markdown",
   "id": "14b57dad-c2ce-4a9d-9909-fc8444ff0bcd",
   "metadata": {},
   "source": [
    "5. Control de flujo"
   ]
  },
  {
   "cell_type": "code",
   "execution_count": 111,
   "id": "c4d2e977-af25-4d42-8f93-eabc8d234d80",
   "metadata": {},
   "outputs": [
    {
     "name": "stdout",
     "output_type": "stream",
     "text": [
      "some_var es menor que 10.\n"
     ]
    }
   ],
   "source": [
    "some_var = 5\n",
    "\n",
    "if some_var > 10:\n",
    "    print(\"some_var es totalmente mayor que 10.\")\n",
    "elif some_var < 10: \n",
    "    print(\"some_var es menor que 10.\")\n",
    "else: \n",
    "    print(\"some_var es efectivamente 10.\")"
   ]
  },
  {
   "cell_type": "code",
   "execution_count": 107,
   "id": "1487dc99-5536-4560-ad82-2841c4c07b9e",
   "metadata": {},
   "outputs": [
    {
     "name": "stdout",
     "output_type": "stream",
     "text": [
      "dog\n",
      "cat\n",
      "mouse\n"
     ]
    }
   ],
   "source": [
    "animales = [\"dog\", \"cat\", \"mouse\"]\n",
    "\n",
    "for animal in animales:\n",
    "    print(animal)"
   ]
  },
  {
   "cell_type": "code",
   "execution_count": 108,
   "id": "86b859e6-9a6f-4dbc-ad76-f6bfc2c950db",
   "metadata": {},
   "outputs": [
    {
     "name": "stdout",
     "output_type": "stream",
     "text": [
      "0\n",
      "1\n",
      "2\n",
      "3\n"
     ]
    }
   ],
   "source": [
    "for i in range(4):\n",
    "    print(i)"
   ]
  },
  {
   "cell_type": "code",
   "execution_count": 110,
   "id": "e7877c7d-013d-496b-8470-fc532291d3e3",
   "metadata": {},
   "outputs": [
    {
     "name": "stdout",
     "output_type": "stream",
     "text": [
      "0\n",
      "1\n",
      "2\n",
      "3\n"
     ]
    }
   ],
   "source": [
    "x = 0\n",
    "\n",
    "while x < 4:\n",
    "    print(x)\n",
    "    x += 1  "
   ]
  },
  {
   "cell_type": "code",
   "execution_count": 113,
   "id": "01f6a24d-f061-455f-98d9-fe991c82b56e",
   "metadata": {},
   "outputs": [],
   "source": [
    "def add(x, y):\n",
    "    suma = x + y\n",
    "    return suma"
   ]
  },
  {
   "cell_type": "code",
   "execution_count": 114,
   "id": "54828e3c-a031-47cf-9cc5-fc000de217f0",
   "metadata": {},
   "outputs": [
    {
     "data": {
      "text/plain": [
       "15"
      ]
     },
     "execution_count": 114,
     "metadata": {},
     "output_type": "execute_result"
    }
   ],
   "source": [
    "add(5, 10)"
   ]
  },
  {
   "cell_type": "code",
   "execution_count": 116,
   "id": "294640d5-1d02-4f99-9174-004949b38e20",
   "metadata": {},
   "outputs": [],
   "source": [
    "def add(x: int, y: int) -> int:\n",
    "    \"\"\"\n",
    "    fun suma para sumar dos elementos\n",
    "    \"\"\"\n",
    "    suma = x + y\n",
    "    return suma"
   ]
  },
  {
   "cell_type": "code",
   "execution_count": null,
   "id": "3fcde965-2943-4aab-bb75-121bcf2d8681",
   "metadata": {},
   "outputs": [],
   "source": [
    "add()"
   ]
  },
  {
   "cell_type": "code",
   "execution_count": 124,
   "id": "1188103f-af90-485c-94d4-c0b565cef9af",
   "metadata": {},
   "outputs": [],
   "source": [
    "def upper_letras(letras: str) -> str:\n",
    "    var = letras.\n",
    "    return var"
   ]
  },
  {
   "cell_type": "code",
   "execution_count": 126,
   "id": "e22ec277-df40-48ef-b73f-e6556789e18f",
   "metadata": {},
   "outputs": [
    {
     "data": {
      "text/plain": [
       "'HOLA'"
      ]
     },
     "execution_count": 126,
     "metadata": {},
     "output_type": "execute_result"
    }
   ],
   "source": [
    "upper_letras(\"hola\")"
   ]
  },
  {
   "cell_type": "code",
   "execution_count": null,
   "id": "b6c12115-a7c7-46b9-a7bd-d937ea7942d6",
   "metadata": {},
   "outputs": [],
   "source": []
  }
 ],
 "metadata": {
  "kernelspec": {
   "display_name": "Python 3 (ipykernel)",
   "language": "python",
   "name": "python3"
  },
  "language_info": {
   "codemirror_mode": {
    "name": "ipython",
    "version": 3
   },
   "file_extension": ".py",
   "mimetype": "text/x-python",
   "name": "python",
   "nbconvert_exporter": "python",
   "pygments_lexer": "ipython3",
   "version": "3.10.11"
  }
 },
 "nbformat": 4,
 "nbformat_minor": 5
}
